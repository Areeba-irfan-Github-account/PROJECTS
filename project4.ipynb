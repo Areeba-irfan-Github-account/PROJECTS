{
  "nbformat": 4,
  "nbformat_minor": 0,
  "metadata": {
    "colab": {
      "provenance": [],
      "authorship_tag": "ABX9TyNjBt66t05T6zepkTP6bnU6",
      "include_colab_link": true
    },
    "kernelspec": {
      "name": "python3",
      "display_name": "Python 3"
    },
    "language_info": {
      "name": "python"
    }
  },
  "cells": [
    {
      "cell_type": "markdown",
      "metadata": {
        "id": "view-in-github",
        "colab_type": "text"
      },
      "source": [
        "<a href=\"https://colab.research.google.com/github/Areeba-irfan-Github-account/PROJECTS/blob/main/project4.ipynb\" target=\"_parent\"><img src=\"https://colab.research.google.com/assets/colab-badge.svg\" alt=\"Open In Colab\"/></a>"
      ]
    },
    {
      "cell_type": "code",
      "execution_count": 8,
      "metadata": {
        "colab": {
          "base_uri": "https://localhost:8080/"
        },
        "id": "q6CQk9nex8FN",
        "outputId": "589bd495-c007-4998-dfdf-145d4c1f9ef3"
      },
      "outputs": [
        {
          "output_type": "stream",
          "name": "stdout",
          "text": [
            "What's your choice ? \n",
            "'r' for rock ,\n",
            "'p' for paper ,\n",
            "'s' for scissorr\n",
            "You won !\n"
          ]
        }
      ],
      "source": [
        "import random\n",
        "def play():\n",
        "  user = input(f\"What's your choice ? \\n'r' for rock ,\\n'p' for paper ,\\n's' for scissor\")\n",
        "  computer = random.choice(['r','p','s'])\n",
        "\n",
        "  if user == computer:\n",
        "    return 'It\\'s a tie'\n",
        "\n",
        "  if is_win(user,computer):\n",
        "    return 'You won !'\n",
        "\n",
        "  return 'You lost !'\n",
        "\n",
        "def is_win(player,opponent):\n",
        "  if (player == 'r' and opponent == 's') or (player == 's' and opponent == 'p') or (player == 'p' and opponent == 'r'):\n",
        "    return True\n",
        "\n",
        "print(play())\n"
      ]
    }
  ]
}